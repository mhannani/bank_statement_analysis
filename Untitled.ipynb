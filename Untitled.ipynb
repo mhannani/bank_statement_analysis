{
 "cells": [
  {
   "cell_type": "code",
   "execution_count": 2,
   "id": "c0ec20ca-463e-4d8a-81db-5ecbbd7f0f93",
   "metadata": {},
   "outputs": [],
   "source": [
    "import spacy\n",
    "import random\n",
    "import time\n",
    "import numpy as np\n",
    "import sys\n",
    "from spacy import displacy # I used spacy v3 which introduce the transformers\n",
    "from itertools import chain\n",
    "import matplotlib.pyplot as plt \n",
    "from matplotlib.ticker import MaxNLocator"
   ]
  },
  {
   "cell_type": "code",
   "execution_count": 3,
   "id": "ea6f1d8d-4b04-4e14-a121-28309305d652",
   "metadata": {},
   "outputs": [],
   "source": [
    "def convert_to_spacy_format(file_pth):\n",
    "    \"\"\"\n",
    "    Converts data \n",
    "    \n",
    "    From:\n",
    "        word    label\n",
    "        word    label\n",
    "    \n",
    "    To:\n",
    "        [sentence, {entities: [(i, j, label), (i, j, label)]}, ...other sentences]\n",
    "    \n",
    "    \"\"\"\n",
    "    \n",
    "    # Open the file.\n",
    "    file = open(file_pth, 'r')\n",
    "    \n",
    "    # defing helper variables\n",
    "    tr_data, entities, sentence, unique_labels = [], [], [], []\n",
    "    \n",
    "    # annotations\n",
    "    current_annotation = None\n",
    "    \n",
    "    # character trackers\n",
    "    i = 0\n",
    "    j = 0\n",
    "    \n",
    "    # Loop over the dataset\n",
    "    for line in file:\n",
    "        # splits with the tab delimitor, removes the end of line characters \n",
    "        line = line.strip(\"\\n\").split(\"\\t\")\n",
    "\n",
    "        # the current line is a word not a character or white space.\n",
    "        if len(line) > 1:\n",
    "            # retrieve the label(the second field of the tsv file)\n",
    "            label = line[1]\n",
    "            \n",
    "            # ignore outside entity\n",
    "            if(label != 'O'):\n",
    "                label = line[1]+\"_Disease\"  \n",
    "            word = line[0]\n",
    "            sentence.append(word)\n",
    "            i = j\n",
    "            j += (len(word) + 1)\n",
    "\n",
    "            if label == 'I_Disease' or label == 'B_Disease' :\n",
    "                entities.append(( i, j-1, label))\n",
    "\n",
    "            if label != 'O' and label not in unique_labels:\n",
    "                unique_labels.append(label)\n",
    "\n",
    "        # when we reach the end of sentence, whitespaces token between the sentences\n",
    "        if len(line) == 1:\n",
    "            # if actually grapped some of the necessary entities\n",
    "            if(len(entities) > 0):\n",
    "                # join the word along the a space\n",
    "                sentence = \" \".join(sentence)\n",
    "                \n",
    "                # append to the dataset\n",
    "                tr_data.append([sentence, {'entities' : entities}])\n",
    "\n",
    "            # Resetting\n",
    "            j = 0 \n",
    "            i = 0\n",
    "            entities, sentence = [], []\n",
    " \n",
    "    file.close()\n",
    "    return tr_data, unique_labels   "
   ]
  },
  {
   "cell_type": "code",
   "execution_count": 11,
   "id": "e19a1a65-d19e-4089-b263-5a11d069486c",
   "metadata": {},
   "outputs": [
    {
     "data": {
      "text/plain": [
       "[[\"Selegiline - induced postural hypotension in Parkinson ' s disease : a longitudinal study on the effects of drug withdrawal .\",\n",
       "  {'entities': [(21, 29, 'B_Disease'),\n",
       "    (30, 41, 'I_Disease'),\n",
       "    (45, 54, 'B_Disease'),\n",
       "    (55, 56, 'I_Disease'),\n",
       "    (57, 58, 'I_Disease'),\n",
       "    (59, 66, 'I_Disease')]}],\n",
       " [\"OBJECTIVES : The United Kingdom Parkinson ' s Disease Research Group ( UKPDRG ) trial found an increased mortality in patients with Parkinson ' s disease ( PD ) randomized to receive 10 mg selegiline per day and L - dopa compared with those taking L - dopa alone .\",\n",
       "  {'entities': [(32, 41, 'B_Disease'),\n",
       "    (42, 43, 'I_Disease'),\n",
       "    (44, 45, 'I_Disease'),\n",
       "    (46, 53, 'I_Disease'),\n",
       "    (132, 141, 'B_Disease'),\n",
       "    (142, 143, 'I_Disease'),\n",
       "    (144, 145, 'I_Disease'),\n",
       "    (146, 153, 'I_Disease'),\n",
       "    (156, 158, 'B_Disease')]}]]"
      ]
     },
     "execution_count": 11,
     "metadata": {},
     "output_type": "execute_result"
    }
   ],
   "source": [
    "convert_to_spacy_format('./Data/train.tsv')[0][:2] # first example"
   ]
  },
  {
   "cell_type": "code",
   "execution_count": 165,
   "id": "49ac0ec4-9a2c-4829-971d-7322affdc8a0",
   "metadata": {},
   "outputs": [],
   "source": [
    "train_data, labels = convert_to_spacy_format(\"./Data/train.tsv\")\n",
    "test_data, _ = convert_to_spacy_format(\"./Data/test.tsv\")\n",
    "VALID_DATA, _ = convert_to_spacy_format(\"./Data/train_dev.tsv\")"
   ]
  },
  {
   "cell_type": "code",
   "execution_count": 167,
   "id": "24a8b40e-8666-4232-aabb-19d2bafadfc6",
   "metadata": {},
   "outputs": [
    {
     "name": "stderr",
     "output_type": "stream",
     "text": [
      "100%|█████████████████████████████████████████████████████████████████████████████████████████████████████████████| 2658/2658 [00:03<00:00, 874.27it/s]\n",
      "100%|████████████████████████████████████████████████████████████████████████████████████████████████████████████| 5385/5385 [00:02<00:00, 2614.59it/s]\n"
     ]
    }
   ],
   "source": [
    "# From : https://stackoverflow.com/questions/67407433/using-spacy-3-0-to-convert-data-from-old-spacy-v2-format-to-the-brand-new-spacy\n",
    "import pandas as pd\n",
    "from tqdm import tqdm\n",
    "import spacy\n",
    "from spacy.tokens import DocBin\n",
    "nlp = spacy.blank(\"en\") # load a new spacy model\n",
    "db = DocBin() # create a DocBin object\n",
    "\n",
    "for text, annot in tqdm(train_data): # data in previous format\n",
    "    doc = nlp.make_doc(text) # create doc object from text\n",
    "    ents = []\n",
    "    for start, end, label in annot[\"entities\"]: # add character indexes\n",
    "        span = doc.char_span(start, end, label=label, alignment_mode=\"contract\")\n",
    "        if span is None:\n",
    "            print(\"Skipping entity\")\n",
    "        else:\n",
    "            ents.append(span)\n",
    "    doc.ents = ents # label the text with the ents\n",
    "    db.add(doc)\n",
    "\n",
    "db.to_disk(\"./train.spacy\") # save the docbin object\n",
    "\n",
    "db = DocBin()\n",
    "for text, annot in tqdm(VALID_DATA): # data in previous format\n",
    "    doc = nlp.make_doc(text) # create doc object from text\n",
    "    ents = []\n",
    "    for start, end, label in annot[\"entities\"]: # add character indexes\n",
    "        span = doc.char_span(start, end, label=label, alignment_mode=\"contract\")\n",
    "        if span is None:\n",
    "            print(\"Skipping entity\")\n",
    "        else:\n",
    "            ents.append(span)\n",
    "    doc.ents = ents # label the text with the ents\n",
    "    db.add(doc)\n",
    "\n",
    "db.to_disk(\"./valid.spacy\") # save the docbin object"
   ]
  },
  {
   "cell_type": "code",
   "execution_count": 169,
   "id": "871498db-8fd0-4e48-94e7-6560ac8e546b",
   "metadata": {},
   "outputs": [
    {
     "name": "stdout",
     "output_type": "stream",
     "text": [
      "[+] Auto-filled config with all values\n",
      "[+] Saved config\n",
      "config.cfg\n",
      "You can now add your data and train your pipeline:\n",
      "python -m spacy train config.cfg --paths.train ./train.spacy --paths.dev ./dev.spacy\n"
     ]
    }
   ],
   "source": [
    "!python -m spacy init fill-config base_config.cfg config.cfg"
   ]
  },
  {
   "cell_type": "code",
   "execution_count": 170,
   "id": "a737a609-e5c3-4de0-b426-27ad494e4c1c",
   "metadata": {},
   "outputs": [
    {
     "name": "stdout",
     "output_type": "stream",
     "text": [
      "[+] Created output directory: bank_statement\\training\n",
      "[i] Saving to output directory: bank_statement\\training\n",
      "[i] Using CPU\n",
      "\u001b[1m\n",
      "=========================== Initializing pipeline ===========================\u001b[0m\n",
      "[+] Initialized pipeline\n",
      "\u001b[1m\n",
      "============================= Training pipeline =============================\u001b[0m\n",
      "[i] Pipeline: ['tok2vec', 'ner']\n",
      "[i] Initial learn rate: 0.001\n",
      "E    #       LOSS TOK2VEC  LOSS NER  ENTS_F  ENTS_P  ENTS_R  SCORE \n",
      "---  ------  ------------  --------  ------  ------  ------  ------\n",
      "  0       0          0.00     39.60    0.00    0.00    0.00    0.00\n",
      "  0     200         80.48   3126.09   61.02   67.70   55.55    0.61\n",
      "  0     400        107.43   2113.01   70.86   77.51   65.27    0.71\n",
      "  1     600        127.23   2180.66   76.82   84.14   70.67    0.77\n",
      "  1     800        126.76   1548.40   79.83   81.41   78.31    0.80\n",
      "  2    1000        168.57   1888.75   82.18   88.03   77.07    0.82\n",
      "  2    1200        187.94   1404.91   84.35   87.47   81.45    0.84\n",
      "  3    1400        276.97   1149.96   85.46   87.80   83.23    0.85\n",
      "  5    1600        253.21    964.59   85.24   85.95   84.53    0.85\n",
      "  6    1800        335.91    806.66   85.59   87.59   83.68    0.86\n",
      "  8    2000        376.53    754.35   86.57   90.85   82.68    0.87\n",
      " 10    2200        394.79    541.71   85.97   87.34   84.65    0.86\n",
      " 13    2400        396.00    563.34   86.28   87.33   85.26    0.86\n",
      " 16    2600        457.71    420.72   86.45   88.06   84.90    0.86\n",
      " 18    2800        482.64    365.31   86.24   88.15   84.42    0.86\n",
      " 21    3000        596.90    304.50   86.51   89.34   83.84    0.87\n",
      " 24    3200        542.54    273.51   85.89   86.73   85.07    0.86\n",
      " 27    3400        565.45    278.98   86.31   88.04   84.64    0.86\n",
      " 29    3600        631.93    245.23   86.69   88.85   84.64    0.87\n",
      " 32    3800        717.02    256.97   86.66   89.52   83.97    0.87\n",
      " 35    4000        504.24    201.20   86.77   89.96   83.79    0.87\n",
      " 38    4200        639.45    233.54   85.84   86.35   85.33    0.86\n",
      " 41    4400        665.87    272.85   86.09   87.08   85.11    0.86\n",
      " 43    4600        428.44    142.34   86.55   88.61   84.58    0.87\n",
      " 46    4800        641.78    193.57   86.44   89.04   83.98    0.86\n",
      " 49    5000        541.73    149.06   86.75   90.07   83.66    0.87\n",
      " 52    5200        465.82    131.76   86.34   87.84   84.89    0.86\n",
      " 54    5400        625.56    157.86   86.82   89.44   84.36    0.87\n",
      " 57    5600        553.60    155.76   86.64   89.36   84.08    0.87\n",
      " 60    5800        526.02    143.24   85.82   86.77   84.90    0.86\n",
      " 63    6000        576.19    149.29   86.19   88.47   84.01    0.86\n",
      " 65    6200        746.10    153.44   86.65   89.44   84.02    0.87\n",
      " 68    6400        688.02    159.50   86.36   88.36   84.45    0.86\n",
      " 71    6600        383.34     99.70   86.81   89.24   84.50    0.87\n",
      " 74    6800        498.25    106.75   86.54   88.87   84.33    0.87\n",
      " 77    7000        633.27    131.74   86.69   90.63   83.08    0.87\n"
     ]
    },
    {
     "name": "stderr",
     "output_type": "stream",
     "text": [
      "[2022-03-08 23:01:39,302] [DEBUG] Config overrides from CLI: ['paths.train', 'paths.dev']\n",
      "[2022-03-08 23:01:42,712] [INFO] Set up nlp object from config\n",
      "[2022-03-08 23:01:42,728] [DEBUG] Loading corpus from path: valid.spacy\n",
      "[2022-03-08 23:01:42,728] [DEBUG] Loading corpus from path: train.spacy\n",
      "[2022-03-08 23:01:42,728] [INFO] Pipeline: ['tok2vec', 'ner']\n",
      "[2022-03-08 23:01:42,728] [INFO] Created vocabulary\n",
      "[2022-03-08 23:01:42,728] [INFO] Finished initializing nlp object\n",
      "[2022-03-08 23:01:45,351] [INFO] Initialized pipeline components: ['tok2vec', 'ner']\n",
      "[2022-03-08 23:01:45,362] [DEBUG] Loading corpus from path: valid.spacy\n",
      "[2022-03-08 23:01:45,363] [DEBUG] Loading corpus from path: train.spacy\n"
     ]
    },
    {
     "name": "stdout",
     "output_type": "stream",
     "text": [
      "[+] Saved pipeline to output directory\n",
      "bank_statement\\training\\model-last\n"
     ]
    }
   ],
   "source": [
    "!python -m spacy train config.cfg --verbose --output ./bank_statement/training/ --paths.train train.spacy --paths.dev valid.spacy"
   ]
  },
  {
   "cell_type": "code",
   "execution_count": 198,
   "id": "c5a8cc34-c94e-453b-a8ad-4adb87386067",
   "metadata": {},
   "outputs": [
    {
     "data": {
      "text/html": [
       "<span class=\"tex2jax_ignore\"><div class=\"entities\" style=\"line-height: 2.5; direction: ltr\">Helodermin produced \n",
       "<mark class=\"entity\" style=\"background: #ddd; padding: 0.45em 0.6em; margin: 0 0.25em; line-height: 1; border-radius: 0.35em;\">\n",
       "    hypotension\n",
       "    <span style=\"font-size: 0.8em; font-weight: bold; line-height: 1; border-radius: 0.35em; vertical-align: middle; margin-left: 0.5rem\">B_Disease</span>\n",
       "</mark>\n",
       " in a dose - dependent manner with approximately similar potency and duration to VIP .</div></span>"
      ],
      "text/plain": [
       "<IPython.core.display.HTML object>"
      ]
     },
     "metadata": {},
     "output_type": "display_data"
    },
    {
     "data": {
      "text/html": [
       "<span class=\"tex2jax_ignore\"><div class=\"entities\" style=\"line-height: 2.5; direction: ltr\">\n",
       "<mark class=\"entity\" style=\"background: #ddd; padding: 0.45em 0.6em; margin: 0 0.25em; line-height: 1; border-radius: 0.35em;\">\n",
       "    Hypotension\n",
       "    <span style=\"font-size: 0.8em; font-weight: bold; line-height: 1; border-radius: 0.35em; vertical-align: middle; margin-left: 0.5rem\">B_Disease</span>\n",
       "</mark>\n",
       " induced by both peptides was significantly attenuated by glibenclamide , which abolished a levcromakalim - produced decrease in arterial blood \n",
       "<mark class=\"entity\" style=\"background: #ddd; padding: 0.45em 0.6em; margin: 0 0.25em; line-height: 1; border-radius: 0.35em;\">\n",
       "    pressure\n",
       "    <span style=\"font-size: 0.8em; font-weight: bold; line-height: 1; border-radius: 0.35em; vertical-align: middle; margin-left: 0.5rem\">I_Disease</span>\n",
       "</mark>\n",
       " .</div></span>"
      ],
      "text/plain": [
       "<IPython.core.display.HTML object>"
      ]
     },
     "metadata": {},
     "output_type": "display_data"
    },
    {
     "data": {
      "text/html": [
       "<span class=\"tex2jax_ignore\"><div class=\"entities\" style=\"line-height: 2.5; direction: ltr\">\n",
       "<mark class=\"entity\" style=\"background: #ddd; padding: 0.45em 0.6em; margin: 0 0.25em; line-height: 1; border-radius: 0.35em;\">\n",
       "    Hypotension\n",
       "    <span style=\"font-size: 0.8em; font-weight: bold; line-height: 1; border-radius: 0.35em; vertical-align: middle; margin-left: 0.5rem\">B_Disease</span>\n",
       "</mark>\n",
       " induced by both peptides was significantly attenuated by glibenclamide , which abolished a levcromakalim - produced decrease in arterial blood \n",
       "<mark class=\"entity\" style=\"background: #ddd; padding: 0.45em 0.6em; margin: 0 0.25em; line-height: 1; border-radius: 0.35em;\">\n",
       "    pressure\n",
       "    <span style=\"font-size: 0.8em; font-weight: bold; line-height: 1; border-radius: 0.35em; vertical-align: middle; margin-left: 0.5rem\">I_Disease</span>\n",
       "</mark>\n",
       " .</div></span>"
      ],
      "text/plain": [
       "<IPython.core.display.HTML object>"
      ]
     },
     "metadata": {},
     "output_type": "display_data"
    },
    {
     "data": {
      "text/html": [
       "<span class=\"tex2jax_ignore\"><div class=\"entities\" style=\"line-height: 2.5; direction: ltr\">Oxyhemoglobin did not affect helodermin - induced \n",
       "<mark class=\"entity\" style=\"background: #ddd; padding: 0.45em 0.6em; margin: 0 0.25em; line-height: 1; border-radius: 0.35em;\">\n",
       "    hypotension\n",
       "    <span style=\"font-size: 0.8em; font-weight: bold; line-height: 1; border-radius: 0.35em; vertical-align: middle; margin-left: 0.5rem\">B_Disease</span>\n",
       "</mark>\n",
       " , whereas it shortened the duration of acetylcholine ( ACh ) - produced \n",
       "<mark class=\"entity\" style=\"background: #ddd; padding: 0.45em 0.6em; margin: 0 0.25em; line-height: 1; border-radius: 0.35em;\">\n",
       "    hypotension\n",
       "    <span style=\"font-size: 0.8em; font-weight: bold; line-height: 1; border-radius: 0.35em; vertical-align: middle; margin-left: 0.5rem\">B_Disease</span>\n",
       "</mark>\n",
       " .</div></span>"
      ],
      "text/plain": [
       "<IPython.core.display.HTML object>"
      ]
     },
     "metadata": {},
     "output_type": "display_data"
    },
    {
     "data": {
      "text/html": [
       "<span class=\"tex2jax_ignore\"><div class=\"entities\" style=\"line-height: 2.5; direction: ltr\">Oxyhemoglobin did not affect helodermin - induced \n",
       "<mark class=\"entity\" style=\"background: #ddd; padding: 0.45em 0.6em; margin: 0 0.25em; line-height: 1; border-radius: 0.35em;\">\n",
       "    hypotension\n",
       "    <span style=\"font-size: 0.8em; font-weight: bold; line-height: 1; border-radius: 0.35em; vertical-align: middle; margin-left: 0.5rem\">B_Disease</span>\n",
       "</mark>\n",
       " , whereas it shortened the duration of acetylcholine ( ACh ) - produced \n",
       "<mark class=\"entity\" style=\"background: #ddd; padding: 0.45em 0.6em; margin: 0 0.25em; line-height: 1; border-radius: 0.35em;\">\n",
       "    hypotension\n",
       "    <span style=\"font-size: 0.8em; font-weight: bold; line-height: 1; border-radius: 0.35em; vertical-align: middle; margin-left: 0.5rem\">B_Disease</span>\n",
       "</mark>\n",
       " .</div></span>"
      ],
      "text/plain": [
       "<IPython.core.display.HTML object>"
      ]
     },
     "metadata": {},
     "output_type": "display_data"
    },
    {
     "data": {
      "text/html": [
       "<span class=\"tex2jax_ignore\"><div class=\"entities\" style=\"line-height: 2.5; direction: ltr\">These findings suggest that \n",
       "<mark class=\"entity\" style=\"background: #ddd; padding: 0.45em 0.6em; margin: 0 0.25em; line-height: 1; border-radius: 0.35em;\">\n",
       "    helodermin\n",
       "    <span style=\"font-size: 0.8em; font-weight: bold; line-height: 1; border-radius: 0.35em; vertical-align: middle; margin-left: 0.5rem\">B_Disease</span>\n",
       "</mark>\n",
       " - produced \n",
       "<mark class=\"entity\" style=\"background: #ddd; padding: 0.45em 0.6em; margin: 0 0.25em; line-height: 1; border-radius: 0.35em;\">\n",
       "    hypotension\n",
       "    <span style=\"font-size: 0.8em; font-weight: bold; line-height: 1; border-radius: 0.35em; vertical-align: middle; margin-left: 0.5rem\">B_Disease</span>\n",
       "</mark>\n",
       " is partly attributable to the activation of glibenclamide - sensitive K + channels ( K ( ATP ) channels ) , which presumably exist on arterial smooth muscle cells .</div></span>"
      ],
      "text/plain": [
       "<IPython.core.display.HTML object>"
      ]
     },
     "metadata": {},
     "output_type": "display_data"
    },
    {
     "data": {
      "text/html": [
       "<span class=\"tex2jax_ignore\"><div class=\"entities\" style=\"line-height: 2.5; direction: ltr\">These findings suggest that \n",
       "<mark class=\"entity\" style=\"background: #ddd; padding: 0.45em 0.6em; margin: 0 0.25em; line-height: 1; border-radius: 0.35em;\">\n",
       "    helodermin\n",
       "    <span style=\"font-size: 0.8em; font-weight: bold; line-height: 1; border-radius: 0.35em; vertical-align: middle; margin-left: 0.5rem\">B_Disease</span>\n",
       "</mark>\n",
       " - produced \n",
       "<mark class=\"entity\" style=\"background: #ddd; padding: 0.45em 0.6em; margin: 0 0.25em; line-height: 1; border-radius: 0.35em;\">\n",
       "    hypotension\n",
       "    <span style=\"font-size: 0.8em; font-weight: bold; line-height: 1; border-radius: 0.35em; vertical-align: middle; margin-left: 0.5rem\">B_Disease</span>\n",
       "</mark>\n",
       " is partly attributable to the activation of glibenclamide - sensitive K + channels ( K ( ATP ) channels ) , which presumably exist on arterial smooth muscle cells .</div></span>"
      ],
      "text/plain": [
       "<IPython.core.display.HTML object>"
      ]
     },
     "metadata": {},
     "output_type": "display_data"
    }
   ],
   "source": [
    "ner = spacy.load(R\"bank_statement/training/model-best\") #load the best model\n",
    "\n",
    "test_sentences = [x[0] for x in test_data[-10: -6]]\n",
    "for x in test_sentences:\n",
    "    doc = ner(x)\n",
    "    for ent in doc.ents:\n",
    "        displacy.render(doc, jupyter=True, style = \"ent\")\n"
   ]
  },
  {
   "cell_type": "code",
   "execution_count": null,
   "id": "e8588707-73ef-4431-8cb2-60547c270399",
   "metadata": {},
   "outputs": [],
   "source": []
  }
 ],
 "metadata": {
  "kernelspec": {
   "display_name": "Python 3 (ipykernel)",
   "language": "python",
   "name": "python3"
  },
  "language_info": {
   "codemirror_mode": {
    "name": "ipython",
    "version": 3
   },
   "file_extension": ".py",
   "mimetype": "text/x-python",
   "name": "python",
   "nbconvert_exporter": "python",
   "pygments_lexer": "ipython3",
   "version": "3.10.2"
  }
 },
 "nbformat": 4,
 "nbformat_minor": 5
}
