{
 "cells": [
  {
   "cell_type": "markdown",
   "id": "ee1dfd03-1110-4830-92b4-8e577d2393ce",
   "metadata": {},
   "source": [
    "## Create a ner for customer name recognition"
   ]
  },
  {
   "cell_type": "markdown",
   "id": "009755c9-fe2e-4713-abfb-b11d2bae2c90",
   "metadata": {},
   "source": [
    "### Data"
   ]
  },
  {
   "cell_type": "code",
   "execution_count": 467,
   "id": "3bba7c67-b899-4ec4-bd8c-4d22695ad765",
   "metadata": {},
   "outputs": [],
   "source": [
    "import pandas as pd\n",
    "import random\n",
    "from sklearn.model_selection  import train_test_split\n",
    "from tqdm import tqdm\n",
    "import spacy\n",
    "from spacy.tokens import DocBin"
   ]
  },
  {
   "cell_type": "code",
   "execution_count": 297,
   "id": "80ecbf0e-ecc2-459d-9656-c3450506ca6f",
   "metadata": {},
   "outputs": [],
   "source": [
    "def construct_customer_name_data_set(in_file_path: str, out_file_path: str, sexe: str='m') -> None:\n",
    "    \"\"\"\n",
    "    Construct a customer name dataset from a base of morrocan names.\n",
    "    \n",
    "    :param in_file_path: str\n",
    "        input file path\n",
    "    :param out_file_path: str\n",
    "        output file path\n",
    "    :param sexe: str\n",
    "        Sexe, 'f' for female, 'm' for male.\n",
    "    :return: None\n",
    "    \"\"\"\n",
    "    \n",
    "    # Read the text files\n",
    "    in_file = open(in_file_path, 'r')\n",
    "    out_file = open(out_file_path, 'r')\n",
    "    \n",
    "    # Customer name prefix\n",
    "    if sexe == 'm':\n",
    "        pre_customer_name = ['M', 'Mr']\n",
    "    \n",
    "    if sexe == 'f':\n",
    "        pre_customer_name = ['Mme']\n",
    "    \n",
    "    # Open files an damp cleaned data to out file\n",
    "    with open(in_file_path, 'r') as in_file:\n",
    "        with open(out_file_path, 'a') as out_file:\n",
    "            # Loop through lines\n",
    "            for line in in_file:\n",
    "                # join names over '\\n' \n",
    "                name = '\\n'.join(line.split())\n",
    "                pre = random.choice(pre_customer_name)\n",
    "\n",
    "                # Take a random predix from prefix array\n",
    "                out_file.write(pre + ' ' + name)\n",
    "                out_file.write('\\n')"
   ]
  },
  {
   "cell_type": "code",
   "execution_count": 295,
   "id": "89ed8ba9-23cc-4690-ac46-eee5c33b3ded",
   "metadata": {},
   "outputs": [],
   "source": [
    "construct_customer_name_data_set('data_m.txt', 'cleaned_m.txt')"
   ]
  },
  {
   "cell_type": "code",
   "execution_count": 296,
   "id": "ab300ec4-055d-4a23-a566-157c0d57d2ac",
   "metadata": {},
   "outputs": [],
   "source": [
    "construct_customer_name_data_set('data_f.txt', 'cleaned_f.txt', 'f')"
   ]
  },
  {
   "cell_type": "code",
   "execution_count": 598,
   "id": "e4d8cebe-cb05-440c-90d7-229bd6dc6753",
   "metadata": {},
   "outputs": [],
   "source": [
    "def annotate_data(sexe: str='m') -> None:\n",
    "    \"\"\"\n",
    "    Annotate cleaned data.\n",
    "    \n",
    "    :param sexe: str\n",
    "        Sexe, 'f' for female, 'm' for male.\n",
    "    :return: None\n",
    "    \"\"\"\n",
    "    \n",
    "    # Holds names with its prefix if present\n",
    "    clauses = []\n",
    "    \n",
    "    tr_data = []\n",
    "\n",
    "    # Entities, typically will be customer_name\n",
    "    entities = []\n",
    "    \n",
    "    # label\n",
    "    label = 'PER' \n",
    "\n",
    "    # Choose the input file based on the sexe argument\n",
    "    if sexe == 'm':\n",
    "        in_file_path = 'cleaned_m.txt'\n",
    "    else:\n",
    "        in_file_path = 'cleaned_f.txt'\n",
    "    \n",
    "    # Open input file in read mode\n",
    "    with open(in_file_path) as in_file:\n",
    "        \n",
    "        for line in in_file:\n",
    "            \n",
    "            line_content = line.split(' ')\n",
    "            \n",
    "            # Names without prefixes\n",
    "            if len(line_content) < 2:\n",
    "                name = line_content[0].strip('\\n')\n",
    "                name_length = len(name)\n",
    "                entities.append((0, name_length, label))\n",
    "                tr_data.append([name, {'entities' : entities}])\n",
    "\n",
    "            # Name with prefixes \n",
    "            elif len(line_content) == 2:\n",
    "                name = line_content[1].strip('\\n')\n",
    "                prefix = line_content[0]\n",
    "                \n",
    "                name_length = len(name)\n",
    "                prefix_length = len(prefix)\n",
    "                entities.append((prefix_length+1, prefix_length + name_length + 1, label))\n",
    "                tr_data.append([line.strip('\\n'), {'entities' : entities}])\n",
    "            # Nevermind\n",
    "            else:\n",
    "                pass\n",
    "\n",
    "            # Initialize entities list\n",
    "            entities = []\n",
    "    return tr_data\n",
    "        "
   ]
  },
  {
   "cell_type": "code",
   "execution_count": 599,
   "id": "71a0a5b4-b12c-407b-b21d-127c289f5566",
   "metadata": {
    "tags": []
   },
   "outputs": [],
   "source": [
    "f_set = annotate_data('f')\n",
    "m_set = annotate_data('m')"
   ]
  },
  {
   "cell_type": "code",
   "execution_count": 608,
   "id": "f0194122-acc9-4a74-a8d7-23be5017fda5",
   "metadata": {},
   "outputs": [],
   "source": [
    "def shuffle_combine_data(m_set, f_set):\n",
    "    \"\"\"\n",
    "    Shuffle the data.\n",
    "    \"\"\"\n",
    "    \n",
    "    # Full data\n",
    "    data = []\n",
    "    \n",
    "    for m_record, f_record in zip(m_set, f_set):\n",
    "        data.append(m_record)\n",
    "        data.append(f_record)\n",
    "    \n",
    "    # create train, and test sets\n",
    "    train_set, test_set = train_test_split(data, train_size = 0.7, test_size = 0.3)\n",
    "    \n",
    "    # create valid set\n",
    "    valid_set, test_set = train_test_split(test_set, train_size = 0.5, test_size = 0.5)\n",
    "    \n",
    "    return train_set, test_set, valid_set"
   ]
  },
  {
   "cell_type": "code",
   "execution_count": 609,
   "id": "ef252eaa-f096-4786-8037-b07d9ca299d6",
   "metadata": {},
   "outputs": [],
   "source": [
    "train_set, test_set, valid_set = shuffle_combine_data(f_set, m_set)"
   ]
  },
  {
   "cell_type": "code",
   "execution_count": 610,
   "id": "15e035d2-3f31-480f-a34f-0d0418e0e70b",
   "metadata": {},
   "outputs": [
    {
     "data": {
      "text/plain": [
       "[['Nehal', {'entities': [(0, 5, 'PER')]}],\n",
       " ['M Chouaib', {'entities': [(2, 9, 'PER')]}],\n",
       " ['Hani', {'entities': [(0, 4, 'PER')]}],\n",
       " ['Mme Elbatoul', {'entities': [(4, 12, 'PER')]}],\n",
       " ['Souhir', {'entities': [(0, 6, 'PER')]}],\n",
       " ['Israe', {'entities': [(0, 5, 'PER')]}],\n",
       " ['Yassira', {'entities': [(0, 7, 'PER')]}],\n",
       " ['Majd', {'entities': [(0, 4, 'PER')]}],\n",
       " ['Chaib', {'entities': [(0, 5, 'PER')]}],\n",
       " ['Mme Maazouza', {'entities': [(4, 12, 'PER')]}]]"
      ]
     },
     "execution_count": 610,
     "metadata": {},
     "output_type": "execute_result"
    }
   ],
   "source": [
    "train_set[:10]"
   ]
  },
  {
   "cell_type": "code",
   "execution_count": 611,
   "id": "ebee33c0-cb02-4cc8-adb1-1dd361cb73e6",
   "metadata": {},
   "outputs": [],
   "source": [
    "# From : https://stackoverflow.com/questions/67407433/using-spacy-3-0-to-convert-data-from-old-spacy-v2-format-to-the-brand-new-spacy\n",
    "\n",
    "def convert_spacy_v3(data, out_file = \"./train.spacy\"):\n",
    "    nlp = spacy.load(\"fr_core_news_sm\") # load a new spacy model\n",
    "    db = DocBin() # create a DocBin object\n",
    "\n",
    "    for text, annot in tqdm(train_set): # data in previous format\n",
    "        doc = nlp.make_doc(text) # create doc object from text\n",
    "        ents = []\n",
    "        for start, end, label in annot[\"entities\"]: # add character indexes\n",
    "            span = doc.char_span(start, end, label=label, alignment_mode=\"contract\")\n",
    "            if span is None:\n",
    "                print(\"Skipping entity\")\n",
    "            else:\n",
    "                ents.append(span)\n",
    "        doc.ents = ents # label the text with the ents\n",
    "        db.add(doc)\n",
    "\n",
    "    db.to_disk(out_file) # save the docbin object\n",
    "\n",
    "    db = DocBin()"
   ]
  },
  {
   "cell_type": "code",
   "execution_count": 632,
   "id": "f997476b-ceef-4fb8-ac5d-6e189f54a1da",
   "metadata": {},
   "outputs": [
    {
     "name": "stderr",
     "output_type": "stream",
     "text": [
      " 76%|██████████████████████████████████████████████████████████████████████████████████▎                         | 1361/1786 [00:00<00:00, 4228.83it/s]"
     ]
    },
    {
     "name": "stdout",
     "output_type": "stream",
     "text": [
      "Skipping entity\n",
      "Skipping entity\n"
     ]
    },
    {
     "name": "stderr",
     "output_type": "stream",
     "text": [
      "100%|████████████████████████████████████████████████████████████████████████████████████████████████████████████| 1786/1786 [00:00<00:00, 4204.12it/s]\n",
      " 91%|██████████████████████████████████████████████████████████████████████████████████████████████████▍         | 1628/1786 [00:00<00:00, 4046.37it/s]"
     ]
    },
    {
     "name": "stdout",
     "output_type": "stream",
     "text": [
      "Skipping entity\n",
      "Skipping entity\n"
     ]
    },
    {
     "name": "stderr",
     "output_type": "stream",
     "text": [
      "100%|████████████████████████████████████████████████████████████████████████████████████████████████████████████| 1786/1786 [00:00<00:00, 3911.39it/s]\n"
     ]
    }
   ],
   "source": [
    "convert_spacy_v3(train_set, out_file = \"./train.spacy\")\n",
    "convert_spacy_v3(valid_set, out_file = \"./valid.spacy\")"
   ]
  },
  {
   "cell_type": "code",
   "execution_count": null,
   "id": "727e94b2-59bd-4b6e-ab9b-780914fd57b0",
   "metadata": {},
   "outputs": [
    {
     "name": "stdout",
     "output_type": "stream",
     "text": [
      "[+] Auto-filled config with all values\n",
      "[+] Saved config\n",
      "config.cfg\n",
      "You can now add your data and train your pipeline:\n",
      "python -m spacy train config.cfg --paths.train ./train.spacy --paths.dev ./dev.spacy\n"
     ]
    }
   ],
   "source": [
    "!python -m spacy init fill-config base_config.cfg config.cfg"
   ]
  },
  {
   "cell_type": "code",
   "execution_count": null,
   "id": "f95d4b27-988c-46b2-b43a-0cb6b1b8e156",
   "metadata": {},
   "outputs": [
    {
     "name": "stdout",
     "output_type": "stream",
     "text": [
      "[i] Saving to output directory: customer_name_ner\\training\n"
     ]
    },
    {
     "name": "stderr",
     "output_type": "stream",
     "text": [
      "[2022-03-09 21:59:47,119] [DEBUG] Config overrides from CLI: ['paths.train', 'paths.dev']\n",
      "[2022-03-09 21:59:50,660] [INFO] Set up nlp object from config\n",
      "[2022-03-09 21:59:50,660] [DEBUG] Loading corpus from path: valid.spacy\n",
      "[2022-03-09 21:59:50,660] [DEBUG] Loading corpus from path: train.spacy\n",
      "[2022-03-09 21:59:50,660] [INFO] Pipeline: ['tok2vec', 'ner']\n",
      "[2022-03-09 21:59:50,676] [INFO] Created vocabulary\n",
      "[2022-03-09 21:59:50,676] [INFO] Finished initializing nlp object"
     ]
    },
    {
     "name": "stdout",
     "output_type": "stream",
     "text": [
      "[i] Using CPU\n",
      "\u001b[1m\n",
      "=========================== Initializing pipeline ===========================\u001b[0m\n",
      "[+] Initialized pipeline\n",
      "\u001b[1m\n",
      "============================= Training pipeline =============================\u001b[0m\n",
      "[i] Pipeline: ['tok2vec', 'ner']\n",
      "[i] Initial learn rate: 0.001\n",
      "E    #       LOSS TOK2VEC  LOSS NER  ENTS_F  ENTS_P  ENTS_R  SCORE \n",
      "---  ------  ------------  --------  ------  ------  ------  ------\n",
      "  0       0          0.00     83.33   88.30   79.44   99.38    0.88\n",
      "  9     200          4.03    478.68  100.00  100.00  100.00    1.00\n",
      " 21     400          0.00      0.00  100.00  100.00  100.00    1.00\n",
      " 35     600          0.00      0.00  100.00  100.00  100.00    1.00\n",
      " 53     800          0.00      0.00  100.00  100.00  100.00    1.00\n",
      " 74    1000          0.00      0.00  100.00  100.00  100.00    1.00\n",
      "100    1200          0.00      0.00  100.00  100.00  100.00    1.00\n",
      "131    1400          0.00      0.00  100.00  100.00  100.00    1.00\n",
      "169    1600          0.00      0.00  100.00  100.00  100.00    1.00\n",
      "215    1800          0.00      0.00  100.00  100.00  100.00    1.00\n",
      "[+] Saved pipeline to output directory\n",
      "customer_name_ner\\training\\model-last\n"
     ]
    },
    {
     "name": "stderr",
     "output_type": "stream",
     "text": [
      "\n",
      "[2022-03-09 21:59:51,740] [INFO] Initialized pipeline components: ['tok2vec', 'ner']\n",
      "[2022-03-09 21:59:51,740] [DEBUG] Loading corpus from path: valid.spacy\n",
      "[2022-03-09 21:59:51,740] [DEBUG] Loading corpus from path: train.spacy\n",
      "[2022-03-09 21:59:51,756] [DEBUG] Removed existing output directory: customer_name_ner\\training\\model-best\n",
      "[2022-03-09 21:59:51,756] [DEBUG] Removed existing output directory: customer_name_ner\\training\\model-last\n"
     ]
    }
   ],
   "source": [
    "!python -m spacy train config.cfg --verbose --output ./customer_name_ner/training/ --paths.train train.spacy --paths.dev valid.spacy"
   ]
  },
  {
   "cell_type": "code",
   "execution_count": 653,
   "id": "426ab5f1-5641-4004-8f39-cac1254b4b15",
   "metadata": {},
   "outputs": [
    {
     "data": {
      "text/html": [
       "<span class=\"tex2jax_ignore\"><div class=\"entities\" style=\"line-height: 2.5; direction: ltr\">\n",
       "<mark class=\"entity\" style=\"background: #ddd; padding: 0.45em 0.6em; margin: 0 0.25em; line-height: 1; border-radius: 0.35em;\">\n",
       "    Relové\n",
       "    <span style=\"font-size: 0.8em; font-weight: bold; line-height: 1; border-radius: 0.35em; vertical-align: middle; margin-left: 0.5rem\">PER</span>\n",
       "</mark>\n",
       " d'\n",
       "<mark class=\"entity\" style=\"background: #ddd; padding: 0.45em 0.6em; margin: 0 0.25em; line-height: 1; border-radius: 0.35em;\">\n",
       "    ldentts\n",
       "bancalre\n",
       "    <span style=\"font-size: 0.8em; font-weight: bold; line-height: 1; border-radius: 0.35em; vertical-align: middle; margin-left: 0.5rem\">PER</span>\n",
       "</mark>\n",
       "</br></br>\n",
       "<mark class=\"entity\" style=\"background: #ddd; padding: 0.45em 0.6em; margin: 0 0.25em; line-height: 1; border-radius: 0.35em;\">\n",
       "    COMMERCI\n",
       "    <span style=\"font-size: 0.8em; font-weight: bold; line-height: 1; border-radius: 0.35em; vertical-align: middle; margin-left: 0.5rem\">PER</span>\n",
       "</mark>\n",
       "</br>M \n",
       "<mark class=\"entity\" style=\"background: #ddd; padding: 0.45em 0.6em; margin: 0 0.25em; line-height: 1; border-radius: 0.35em;\">\n",
       "    ABDELHAK\n",
       "    <span style=\"font-size: 0.8em; font-weight: bold; line-height: 1; border-radius: 0.35em; vertical-align: middle; margin-left: 0.5rem\">PER</span>\n",
       "</mark>\n",
       " ESSADIQI</br></br>\n",
       "<mark class=\"entity\" style=\"background: #ddd; padding: 0.45em 0.6em; margin: 0 0.25em; line-height: 1; border-radius: 0.35em;\">\n",
       "    POSTE\n",
       "    <span style=\"font-size: 0.8em; font-weight: bold; line-height: 1; border-radius: 0.35em; vertical-align: middle; margin-left: 0.5rem\">PER</span>\n",
       "</mark>\n",
       " \n",
       "<mark class=\"entity\" style=\"background: #ddd; padding: 0.45em 0.6em; margin: 0 0.25em; line-height: 1; border-radius: 0.35em;\">\n",
       "    MAROC\n",
       "    <span style=\"font-size: 0.8em; font-weight: bold; line-height: 1; border-radius: 0.35em; vertical-align: middle; margin-left: 0.5rem\">PER</span>\n",
       "</mark>\n",
       "</div></span>"
      ],
      "text/plain": [
       "<IPython.core.display.HTML object>"
      ]
     },
     "metadata": {},
     "output_type": "display_data"
    },
    {
     "data": {
      "text/html": [
       "<span class=\"tex2jax_ignore\"><div class=\"entities\" style=\"line-height: 2.5; direction: ltr\">\n",
       "<mark class=\"entity\" style=\"background: #ddd; padding: 0.45em 0.6em; margin: 0 0.25em; line-height: 1; border-radius: 0.35em;\">\n",
       "    Relové\n",
       "    <span style=\"font-size: 0.8em; font-weight: bold; line-height: 1; border-radius: 0.35em; vertical-align: middle; margin-left: 0.5rem\">PER</span>\n",
       "</mark>\n",
       " d'\n",
       "<mark class=\"entity\" style=\"background: #ddd; padding: 0.45em 0.6em; margin: 0 0.25em; line-height: 1; border-radius: 0.35em;\">\n",
       "    ldentts\n",
       "bancalre\n",
       "    <span style=\"font-size: 0.8em; font-weight: bold; line-height: 1; border-radius: 0.35em; vertical-align: middle; margin-left: 0.5rem\">PER</span>\n",
       "</mark>\n",
       "</br></br>\n",
       "<mark class=\"entity\" style=\"background: #ddd; padding: 0.45em 0.6em; margin: 0 0.25em; line-height: 1; border-radius: 0.35em;\">\n",
       "    COMMERCI\n",
       "    <span style=\"font-size: 0.8em; font-weight: bold; line-height: 1; border-radius: 0.35em; vertical-align: middle; margin-left: 0.5rem\">PER</span>\n",
       "</mark>\n",
       "</br>M \n",
       "<mark class=\"entity\" style=\"background: #ddd; padding: 0.45em 0.6em; margin: 0 0.25em; line-height: 1; border-radius: 0.35em;\">\n",
       "    ABDELHAK\n",
       "    <span style=\"font-size: 0.8em; font-weight: bold; line-height: 1; border-radius: 0.35em; vertical-align: middle; margin-left: 0.5rem\">PER</span>\n",
       "</mark>\n",
       " ESSADIQI</br></br>\n",
       "<mark class=\"entity\" style=\"background: #ddd; padding: 0.45em 0.6em; margin: 0 0.25em; line-height: 1; border-radius: 0.35em;\">\n",
       "    POSTE\n",
       "    <span style=\"font-size: 0.8em; font-weight: bold; line-height: 1; border-radius: 0.35em; vertical-align: middle; margin-left: 0.5rem\">PER</span>\n",
       "</mark>\n",
       " \n",
       "<mark class=\"entity\" style=\"background: #ddd; padding: 0.45em 0.6em; margin: 0 0.25em; line-height: 1; border-radius: 0.35em;\">\n",
       "    MAROC\n",
       "    <span style=\"font-size: 0.8em; font-weight: bold; line-height: 1; border-radius: 0.35em; vertical-align: middle; margin-left: 0.5rem\">PER</span>\n",
       "</mark>\n",
       "</div></span>"
      ],
      "text/plain": [
       "<IPython.core.display.HTML object>"
      ]
     },
     "metadata": {},
     "output_type": "display_data"
    },
    {
     "data": {
      "text/html": [
       "<span class=\"tex2jax_ignore\"><div class=\"entities\" style=\"line-height: 2.5; direction: ltr\">\n",
       "<mark class=\"entity\" style=\"background: #ddd; padding: 0.45em 0.6em; margin: 0 0.25em; line-height: 1; border-radius: 0.35em;\">\n",
       "    Relové\n",
       "    <span style=\"font-size: 0.8em; font-weight: bold; line-height: 1; border-radius: 0.35em; vertical-align: middle; margin-left: 0.5rem\">PER</span>\n",
       "</mark>\n",
       " d'\n",
       "<mark class=\"entity\" style=\"background: #ddd; padding: 0.45em 0.6em; margin: 0 0.25em; line-height: 1; border-radius: 0.35em;\">\n",
       "    ldentts\n",
       "bancalre\n",
       "    <span style=\"font-size: 0.8em; font-weight: bold; line-height: 1; border-radius: 0.35em; vertical-align: middle; margin-left: 0.5rem\">PER</span>\n",
       "</mark>\n",
       "</br></br>\n",
       "<mark class=\"entity\" style=\"background: #ddd; padding: 0.45em 0.6em; margin: 0 0.25em; line-height: 1; border-radius: 0.35em;\">\n",
       "    COMMERCI\n",
       "    <span style=\"font-size: 0.8em; font-weight: bold; line-height: 1; border-radius: 0.35em; vertical-align: middle; margin-left: 0.5rem\">PER</span>\n",
       "</mark>\n",
       "</br>M \n",
       "<mark class=\"entity\" style=\"background: #ddd; padding: 0.45em 0.6em; margin: 0 0.25em; line-height: 1; border-radius: 0.35em;\">\n",
       "    ABDELHAK\n",
       "    <span style=\"font-size: 0.8em; font-weight: bold; line-height: 1; border-radius: 0.35em; vertical-align: middle; margin-left: 0.5rem\">PER</span>\n",
       "</mark>\n",
       " ESSADIQI</br></br>\n",
       "<mark class=\"entity\" style=\"background: #ddd; padding: 0.45em 0.6em; margin: 0 0.25em; line-height: 1; border-radius: 0.35em;\">\n",
       "    POSTE\n",
       "    <span style=\"font-size: 0.8em; font-weight: bold; line-height: 1; border-radius: 0.35em; vertical-align: middle; margin-left: 0.5rem\">PER</span>\n",
       "</mark>\n",
       " \n",
       "<mark class=\"entity\" style=\"background: #ddd; padding: 0.45em 0.6em; margin: 0 0.25em; line-height: 1; border-radius: 0.35em;\">\n",
       "    MAROC\n",
       "    <span style=\"font-size: 0.8em; font-weight: bold; line-height: 1; border-radius: 0.35em; vertical-align: middle; margin-left: 0.5rem\">PER</span>\n",
       "</mark>\n",
       "</div></span>"
      ],
      "text/plain": [
       "<IPython.core.display.HTML object>"
      ]
     },
     "metadata": {},
     "output_type": "display_data"
    },
    {
     "data": {
      "text/html": [
       "<span class=\"tex2jax_ignore\"><div class=\"entities\" style=\"line-height: 2.5; direction: ltr\">\n",
       "<mark class=\"entity\" style=\"background: #ddd; padding: 0.45em 0.6em; margin: 0 0.25em; line-height: 1; border-radius: 0.35em;\">\n",
       "    Relové\n",
       "    <span style=\"font-size: 0.8em; font-weight: bold; line-height: 1; border-radius: 0.35em; vertical-align: middle; margin-left: 0.5rem\">PER</span>\n",
       "</mark>\n",
       " d'\n",
       "<mark class=\"entity\" style=\"background: #ddd; padding: 0.45em 0.6em; margin: 0 0.25em; line-height: 1; border-radius: 0.35em;\">\n",
       "    ldentts\n",
       "bancalre\n",
       "    <span style=\"font-size: 0.8em; font-weight: bold; line-height: 1; border-radius: 0.35em; vertical-align: middle; margin-left: 0.5rem\">PER</span>\n",
       "</mark>\n",
       "</br></br>\n",
       "<mark class=\"entity\" style=\"background: #ddd; padding: 0.45em 0.6em; margin: 0 0.25em; line-height: 1; border-radius: 0.35em;\">\n",
       "    COMMERCI\n",
       "    <span style=\"font-size: 0.8em; font-weight: bold; line-height: 1; border-radius: 0.35em; vertical-align: middle; margin-left: 0.5rem\">PER</span>\n",
       "</mark>\n",
       "</br>M \n",
       "<mark class=\"entity\" style=\"background: #ddd; padding: 0.45em 0.6em; margin: 0 0.25em; line-height: 1; border-radius: 0.35em;\">\n",
       "    ABDELHAK\n",
       "    <span style=\"font-size: 0.8em; font-weight: bold; line-height: 1; border-radius: 0.35em; vertical-align: middle; margin-left: 0.5rem\">PER</span>\n",
       "</mark>\n",
       " ESSADIQI</br></br>\n",
       "<mark class=\"entity\" style=\"background: #ddd; padding: 0.45em 0.6em; margin: 0 0.25em; line-height: 1; border-radius: 0.35em;\">\n",
       "    POSTE\n",
       "    <span style=\"font-size: 0.8em; font-weight: bold; line-height: 1; border-radius: 0.35em; vertical-align: middle; margin-left: 0.5rem\">PER</span>\n",
       "</mark>\n",
       " \n",
       "<mark class=\"entity\" style=\"background: #ddd; padding: 0.45em 0.6em; margin: 0 0.25em; line-height: 1; border-radius: 0.35em;\">\n",
       "    MAROC\n",
       "    <span style=\"font-size: 0.8em; font-weight: bold; line-height: 1; border-radius: 0.35em; vertical-align: middle; margin-left: 0.5rem\">PER</span>\n",
       "</mark>\n",
       "</div></span>"
      ],
      "text/plain": [
       "<IPython.core.display.HTML object>"
      ]
     },
     "metadata": {},
     "output_type": "display_data"
    },
    {
     "data": {
      "text/html": [
       "<span class=\"tex2jax_ignore\"><div class=\"entities\" style=\"line-height: 2.5; direction: ltr\">\n",
       "<mark class=\"entity\" style=\"background: #ddd; padding: 0.45em 0.6em; margin: 0 0.25em; line-height: 1; border-radius: 0.35em;\">\n",
       "    Relové\n",
       "    <span style=\"font-size: 0.8em; font-weight: bold; line-height: 1; border-radius: 0.35em; vertical-align: middle; margin-left: 0.5rem\">PER</span>\n",
       "</mark>\n",
       " d'\n",
       "<mark class=\"entity\" style=\"background: #ddd; padding: 0.45em 0.6em; margin: 0 0.25em; line-height: 1; border-radius: 0.35em;\">\n",
       "    ldentts\n",
       "bancalre\n",
       "    <span style=\"font-size: 0.8em; font-weight: bold; line-height: 1; border-radius: 0.35em; vertical-align: middle; margin-left: 0.5rem\">PER</span>\n",
       "</mark>\n",
       "</br></br>\n",
       "<mark class=\"entity\" style=\"background: #ddd; padding: 0.45em 0.6em; margin: 0 0.25em; line-height: 1; border-radius: 0.35em;\">\n",
       "    COMMERCI\n",
       "    <span style=\"font-size: 0.8em; font-weight: bold; line-height: 1; border-radius: 0.35em; vertical-align: middle; margin-left: 0.5rem\">PER</span>\n",
       "</mark>\n",
       "</br>M \n",
       "<mark class=\"entity\" style=\"background: #ddd; padding: 0.45em 0.6em; margin: 0 0.25em; line-height: 1; border-radius: 0.35em;\">\n",
       "    ABDELHAK\n",
       "    <span style=\"font-size: 0.8em; font-weight: bold; line-height: 1; border-radius: 0.35em; vertical-align: middle; margin-left: 0.5rem\">PER</span>\n",
       "</mark>\n",
       " ESSADIQI</br></br>\n",
       "<mark class=\"entity\" style=\"background: #ddd; padding: 0.45em 0.6em; margin: 0 0.25em; line-height: 1; border-radius: 0.35em;\">\n",
       "    POSTE\n",
       "    <span style=\"font-size: 0.8em; font-weight: bold; line-height: 1; border-radius: 0.35em; vertical-align: middle; margin-left: 0.5rem\">PER</span>\n",
       "</mark>\n",
       " \n",
       "<mark class=\"entity\" style=\"background: #ddd; padding: 0.45em 0.6em; margin: 0 0.25em; line-height: 1; border-radius: 0.35em;\">\n",
       "    MAROC\n",
       "    <span style=\"font-size: 0.8em; font-weight: bold; line-height: 1; border-radius: 0.35em; vertical-align: middle; margin-left: 0.5rem\">PER</span>\n",
       "</mark>\n",
       "</div></span>"
      ],
      "text/plain": [
       "<IPython.core.display.HTML object>"
      ]
     },
     "metadata": {},
     "output_type": "display_data"
    },
    {
     "data": {
      "text/html": [
       "<span class=\"tex2jax_ignore\"><div class=\"entities\" style=\"line-height: 2.5; direction: ltr\">\n",
       "<mark class=\"entity\" style=\"background: #ddd; padding: 0.45em 0.6em; margin: 0 0.25em; line-height: 1; border-radius: 0.35em;\">\n",
       "    Relové\n",
       "    <span style=\"font-size: 0.8em; font-weight: bold; line-height: 1; border-radius: 0.35em; vertical-align: middle; margin-left: 0.5rem\">PER</span>\n",
       "</mark>\n",
       " d'\n",
       "<mark class=\"entity\" style=\"background: #ddd; padding: 0.45em 0.6em; margin: 0 0.25em; line-height: 1; border-radius: 0.35em;\">\n",
       "    ldentts\n",
       "bancalre\n",
       "    <span style=\"font-size: 0.8em; font-weight: bold; line-height: 1; border-radius: 0.35em; vertical-align: middle; margin-left: 0.5rem\">PER</span>\n",
       "</mark>\n",
       "</br></br>\n",
       "<mark class=\"entity\" style=\"background: #ddd; padding: 0.45em 0.6em; margin: 0 0.25em; line-height: 1; border-radius: 0.35em;\">\n",
       "    COMMERCI\n",
       "    <span style=\"font-size: 0.8em; font-weight: bold; line-height: 1; border-radius: 0.35em; vertical-align: middle; margin-left: 0.5rem\">PER</span>\n",
       "</mark>\n",
       "</br>M \n",
       "<mark class=\"entity\" style=\"background: #ddd; padding: 0.45em 0.6em; margin: 0 0.25em; line-height: 1; border-radius: 0.35em;\">\n",
       "    ABDELHAK\n",
       "    <span style=\"font-size: 0.8em; font-weight: bold; line-height: 1; border-radius: 0.35em; vertical-align: middle; margin-left: 0.5rem\">PER</span>\n",
       "</mark>\n",
       " ESSADIQI</br></br>\n",
       "<mark class=\"entity\" style=\"background: #ddd; padding: 0.45em 0.6em; margin: 0 0.25em; line-height: 1; border-radius: 0.35em;\">\n",
       "    POSTE\n",
       "    <span style=\"font-size: 0.8em; font-weight: bold; line-height: 1; border-radius: 0.35em; vertical-align: middle; margin-left: 0.5rem\">PER</span>\n",
       "</mark>\n",
       " \n",
       "<mark class=\"entity\" style=\"background: #ddd; padding: 0.45em 0.6em; margin: 0 0.25em; line-height: 1; border-radius: 0.35em;\">\n",
       "    MAROC\n",
       "    <span style=\"font-size: 0.8em; font-weight: bold; line-height: 1; border-radius: 0.35em; vertical-align: middle; margin-left: 0.5rem\">PER</span>\n",
       "</mark>\n",
       "</div></span>"
      ],
      "text/plain": [
       "<IPython.core.display.HTML object>"
      ]
     },
     "metadata": {},
     "output_type": "display_data"
    }
   ],
   "source": [
    "ner = spacy.load(\"./customer_name_ner/training/model-best\") #load the best model\n",
    "\n",
    "test_sentences = [\"\"\"Relové d'ldentts\n",
    "bancalre\n",
    "\n",
    "COMMERCI\n",
    "M ABDELHAK ESSADIQI\n",
    "\n",
    "POSTE MAROC\"\"\"]\n",
    "for x in test_sentences:\n",
    "    doc = ner(x)\n",
    "    for ent in doc.ents:\n",
    "        spacy.displacy.render(doc, jupyter=True, style = \"ent\")"
   ]
  },
  {
   "cell_type": "code",
   "execution_count": 636,
   "id": "a2d8b7d5-eaa2-4418-b8ff-e1c37a562e30",
   "metadata": {},
   "outputs": [],
   "source": [
    "# Load pre-existing spacy model\n",
    "import spacy\n",
    "nlp=spacy.load('fr_core_news_sm')\n",
    "\n",
    "# Getting the pipeline component\n",
    "ner=nlp.get_pipe(\"ner\")"
   ]
  },
  {
   "cell_type": "code",
   "execution_count": null,
   "id": "0e97587e-52ab-4172-977c-b5e22f76fdaa",
   "metadata": {},
   "outputs": [],
   "source": [
    "# Adding labels to the `ner`\n",
    "\n",
    "for _, annotations in TRAIN_DATA:\n",
    "    for ent in annotations.get(\"entities\"):\n",
    "        ner.add_label(ent[2])"
   ]
  },
  {
   "cell_type": "code",
   "execution_count": 637,
   "id": "7279f3f6-6856-4716-893c-c170e80135fd",
   "metadata": {},
   "outputs": [
    {
     "data": {
      "text/plain": [
       "<spacy.pipeline.ner.EntityRecognizer at 0x1a057f83140>"
      ]
     },
     "execution_count": 637,
     "metadata": {},
     "output_type": "execute_result"
    }
   ],
   "source": [
    "ner"
   ]
  },
  {
   "cell_type": "code",
   "execution_count": null,
   "id": "c3cc51dd-2753-406c-b8bb-d5fb31ee5899",
   "metadata": {},
   "outputs": [],
   "source": []
  }
 ],
 "metadata": {
  "kernelspec": {
   "display_name": "Python 3 (ipykernel)",
   "language": "python",
   "name": "python3"
  },
  "language_info": {
   "codemirror_mode": {
    "name": "ipython",
    "version": 3
   },
   "file_extension": ".py",
   "mimetype": "text/x-python",
   "name": "python",
   "nbconvert_exporter": "python",
   "pygments_lexer": "ipython3",
   "version": "3.10.2"
  }
 },
 "nbformat": 4,
 "nbformat_minor": 5
}
