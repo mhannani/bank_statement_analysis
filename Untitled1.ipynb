{
 "cells": [
  {
   "cell_type": "markdown",
   "id": "ee1dfd03-1110-4830-92b4-8e577d2393ce",
   "metadata": {},
   "source": [
    "## Create a ner for customer name recognition"
   ]
  },
  {
   "cell_type": "markdown",
   "id": "009755c9-fe2e-4713-abfb-b11d2bae2c90",
   "metadata": {},
   "source": [
    "### Data"
   ]
  },
  {
   "cell_type": "code",
   "execution_count": 293,
   "id": "3bba7c67-b899-4ec4-bd8c-4d22695ad765",
   "metadata": {},
   "outputs": [],
   "source": [
    "import pandas as pd\n",
    "import random"
   ]
  },
  {
   "cell_type": "code",
   "execution_count": 297,
   "id": "80ecbf0e-ecc2-459d-9656-c3450506ca6f",
   "metadata": {},
   "outputs": [],
   "source": [
    "def construct_customer_name_data_set(in_file_path: str, out_file_path: str, sexe: str='m') -> None:\n",
    "    \"\"\"\n",
    "    Construct a customer name dataset from a base of morrocan names.\n",
    "    \n",
    "    :param in_file_path: str\n",
    "        input file path\n",
    "    :param out_file_path: str\n",
    "        output file path\n",
    "    :param sexe: str\n",
    "        Sexe, 'f' for female, 'm' for male.\n",
    "    :return: None\n",
    "    \"\"\"\n",
    "    \n",
    "    # Read the text files\n",
    "    in_file = open(in_file_path, 'r')\n",
    "    out_file = open(out_file_path, 'r')\n",
    "    \n",
    "    # Customer name prefix\n",
    "    if sexe == 'm':\n",
    "        pre_customer_name = ['M', 'Mr']\n",
    "    \n",
    "    if sexe == 'f':\n",
    "        pre_customer_name = ['Mme']\n",
    "    \n",
    "    # Open files an damp cleaned data to out file\n",
    "    with open(in_file_path, 'r') as in_file:\n",
    "        with open(out_file_path, 'a') as out_file:\n",
    "            # Loop through lines\n",
    "            for line in in_file:\n",
    "                # join names over '\\n' \n",
    "                name = '\\n'.join(line.split())\n",
    "                pre = random.choice(pre_customer_name)\n",
    "\n",
    "                # Take a random predix from prefix array\n",
    "                out_file.write(pre + ' ' + name)\n",
    "                out_file.write('\\n')"
   ]
  },
  {
   "cell_type": "code",
   "execution_count": 295,
   "id": "89ed8ba9-23cc-4690-ac46-eee5c33b3ded",
   "metadata": {},
   "outputs": [],
   "source": [
    "construct_customer_name_data_set('data_m.txt', 'cleaned_m.txt')"
   ]
  },
  {
   "cell_type": "code",
   "execution_count": 296,
   "id": "ab300ec4-055d-4a23-a566-157c0d57d2ac",
   "metadata": {},
   "outputs": [],
   "source": [
    "construct_customer_name_data_set('data_f.txt', 'cleaned_f.txt', 'f')"
   ]
  },
  {
   "cell_type": "code",
   "execution_count": null,
   "id": "e4d8cebe-cb05-440c-90d7-229bd6dc6753",
   "metadata": {},
   "outputs": [],
   "source": [
    "def annotate_data(sexe: str='m') -> None:\n",
    "    \"\"\"\n",
    "    Annotate cleaned data.\n",
    "    \n",
    "    :param sexe: str\n",
    "        Sexe, 'f' for female, 'm' for male.\n",
    "    :return: None\n",
    "    \"\"\"\n",
    "    \n",
    "    # Holds names with its prefix if present\n",
    "    clauses = []\n",
    "    \n",
    "    # Entities, typically will be customer_name\n",
    "    entities = [] \n",
    "    \n",
    "    # Choose the input file based on the sexe argument\n",
    "    if sexe == 'm':\n",
    "        in_file_path = 'cleaned_m.txt'\n",
    "    else:\n",
    "        in_file_path = 'cleaned_f.txt'\n",
    "    \n",
    "    \n",
    "    # open input file in read mode\n",
    "    with open(in_file_path) as in_file:\n",
    "        \n",
    "        "
   ]
  },
  {
   "cell_type": "code",
   "execution_count": null,
   "id": "71a0a5b4-b12c-407b-b21d-127c289f5566",
   "metadata": {},
   "outputs": [],
   "source": []
  },
  {
   "cell_type": "code",
   "execution_count": null,
   "id": "695ffd81-e5a8-4a1b-bcf5-1592f8efa84d",
   "metadata": {},
   "outputs": [],
   "source": []
  }
 ],
 "metadata": {
  "kernelspec": {
   "display_name": "Python 3 (ipykernel)",
   "language": "python",
   "name": "python3"
  },
  "language_info": {
   "codemirror_mode": {
    "name": "ipython",
    "version": 3
   },
   "file_extension": ".py",
   "mimetype": "text/x-python",
   "name": "python",
   "nbconvert_exporter": "python",
   "pygments_lexer": "ipython3",
   "version": "3.10.2"
  }
 },
 "nbformat": 4,
 "nbformat_minor": 5
}
